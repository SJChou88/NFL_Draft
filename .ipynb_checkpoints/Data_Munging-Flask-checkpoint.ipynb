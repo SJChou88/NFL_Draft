{
 "cells": [
  {
   "cell_type": "markdown",
   "metadata": {
    "collapsed": true
   },
   "source": [
    "# Create WR database for logistic regression for D3 visualization"
   ]
  },
  {
   "cell_type": "code",
   "execution_count": null,
   "metadata": {
    "collapsed": false
   },
   "outputs": [],
   "source": [
    "import pandas as pd\n",
    "import numpy as np\n",
    "from patsy import dmatrices\n",
    "import json\n",
    "\n",
    "pd.options.display.max_rows = 999\n",
    "pd.options.display.max_columns = 110"
   ]
  },
  {
   "cell_type": "code",
   "execution_count": null,
   "metadata": {
    "collapsed": false
   },
   "outputs": [],
   "source": [
    "file_path = 'collegefb/combine_update.json'\n",
    "with open(file_path) as json_data:\n",
    "    d = json.load(json_data)\n",
    "\n",
    "    data = []\n",
    "for row in d:\n",
    "    for k in row:\n",
    "        data.append(row[k])\n",
    "labels = ['year','player','pos','college','height','weight','forty','vertical','bench','broad','threecone','shuttle','drafted','url']\n",
    "\n",
    "df = pd.DataFrame(data,columns=labels)\n",
    "\n",
    "df[\"height\"]= (df.height.str.split('-').str[0]).astype(int)*12 + (df.height.str.split('-').str[1]).astype(int)\n",
    "df[\"firstround\"]= ((df.drafted.str.split('/').str[1].str.strip())=='1st').astype(int)\n",
    "df = df.convert_objects(convert_numeric=True)\n",
    "\n",
    "df[\"round\"]= df.drafted.str.split('/').str[1].str.strip().str[:1]\n",
    "df[\"pick\"]=df.drafted.str.split('/').str[2].str.strip().str[:-7]\n",
    "df['round'].fillna(0, inplace=True)\n",
    "df['pick'].fillna(0, inplace=True)\n",
    "df = df.convert_objects(convert_numeric=True)"
   ]
  },
  {
   "cell_type": "code",
   "execution_count": null,
   "metadata": {
    "collapsed": false
   },
   "outputs": [],
   "source": [
    "file_path = 'collegefb/draft_update2.json'\n",
    "with open(file_path) as json_data:\n",
    "    d = json.load(json_data)\n",
    "\n",
    "    data = []\n",
    "for row in d:\n",
    "    for k in row:\n",
    "        data.append(row[k])\n",
    "labels = ['year','round','pick','team','player','pos','age','college','url']\n",
    "\n",
    "df_draft = pd.DataFrame(data,columns=labels)\n",
    "df_draft = df_draft.convert_objects(convert_numeric=True)\n",
    "df_draft = df_draft[['year','round','pick','player','pos','college','url']]"
   ]
  },
  {
   "cell_type": "code",
   "execution_count": null,
   "metadata": {
    "collapsed": false
   },
   "outputs": [],
   "source": [
    "file_path = 'collegefb/college_update2.json'\n",
    "with open(file_path) as json_data:\n",
    "    d = json.load(json_data)\n",
    "\n",
    "    data = []\n",
    "for row in d:\n",
    "    for k in row:\n",
    "        data.append(row[k])\n",
    "#labels = ['completions','attempts','pass_yards','pass_tds','rec_yards','rec_td','receptions', 'rush_att', 'rush_yds', 'rush_td', 'solo_tackes', 'tackles', 'loss_tackles', 'ast_tackles', 'fum_forced', 'sacks', 'int', 'pd']\n",
    "labels = ['player_name', 'receptions', 'rec_yards', 'rec_td', 'rush_att', 'rush_yds', 'rush_td', 'attempts', 'completions', 'pass_ints', 'pass_tds', 'pass_yards','games', 'solo_tackles', 'ast_tackles', 'tackles', 'loss_tackles', 'sacks', 'int', 'int_tds', 'int_yds', 'pd', 'fum_rec', 'fum_forced', 'fum_tds', 'fum_yds','url']\n",
    "\n",
    "df_college = pd.DataFrame(data,columns=labels)\n",
    "df_college = df_college.convert_objects(convert_numeric=True)"
   ]
  },
  {
   "cell_type": "code",
   "execution_count": null,
   "metadata": {
    "collapsed": false
   },
   "outputs": [],
   "source": [
    "df_college_norm=pd.DataFrame(df_college['url'])\n",
    "\n",
    "cols = ['receptions', 'rec_yards', 'rec_td', 'rush_att', 'rush_yds', 'rush_td', 'attempts', 'completions', 'pass_ints', 'pass_tds', 'pass_yards','games', 'solo_tackles', 'ast_tackles', 'tackles', 'loss_tackles', 'sacks', 'int', 'int_tds', 'int_yds', 'pd', 'fum_rec', 'fum_forced', 'fum_tds', 'fum_yds']\n",
    "\n",
    "for col in cols:\n",
    "    df_college_norm[col] = df_college[col]/(df_college[col].max())\n",
    "\n",
    "df_college = df_college.drop('player_name',1)"
   ]
  },
  {
   "cell_type": "markdown",
   "metadata": {},
   "source": [
    "# Rankings"
   ]
  },
  {
   "cell_type": "code",
   "execution_count": null,
   "metadata": {
    "collapsed": false
   },
   "outputs": [],
   "source": [
    "file_path = 'collegefb/cfb_rank.json'\n",
    "with open(file_path) as json_data:\n",
    "    d = json.load(json_data)\n",
    "\n",
    "    data = []\n",
    "for row in d:\n",
    "    for k in row:\n",
    "        data.append(row[k])\n",
    "labels = ['poll','rank','college']\n",
    "\n",
    "df_rank = pd.DataFrame(data,columns=labels)"
   ]
  },
  {
   "cell_type": "code",
   "execution_count": null,
   "metadata": {
    "collapsed": false
   },
   "outputs": [],
   "source": [
    "df_rank['year']=df_rank.poll.str.split(' ').str[0].astype(int)+1\n",
    "df_rank['college_r']=1"
   ]
  },
  {
   "cell_type": "markdown",
   "metadata": {
    "collapsed": true
   },
   "source": [
    "# Combine datasets"
   ]
  },
  {
   "cell_type": "code",
   "execution_count": null,
   "metadata": {
    "collapsed": false
   },
   "outputs": [],
   "source": [
    "temp_df = df.merge(df_rank,how='left',on=['college','year'])\n",
    "complete_df = temp_df.merge(df_college,how='left',on=['url'])\n",
    "complete_df.fillna(0, inplace=True)\n",
    "wr_df = complete_df[complete_df['pos']=='WR']"
   ]
  },
  {
   "cell_type": "code",
   "execution_count": null,
   "metadata": {
    "collapsed": false
   },
   "outputs": [],
   "source": [
    "wr_df_ab=wr_df[['height','weight','firstround','college_r','receptions','rec_yards','rec_td']]\n",
    "wr_df_ab.to_pickle('wr_data.pkl')"
   ]
  }
 ],
 "metadata": {
  "kernelspec": {
   "display_name": "Python 3",
   "language": "python",
   "name": "python3"
  },
  "language_info": {
   "codemirror_mode": {
    "name": "ipython",
    "version": 3
   },
   "file_extension": ".py",
   "mimetype": "text/x-python",
   "name": "python",
   "nbconvert_exporter": "python",
   "pygments_lexer": "ipython3",
   "version": "3.6.0"
  }
 },
 "nbformat": 4,
 "nbformat_minor": 2
}
