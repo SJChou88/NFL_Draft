{
 "cells": [
  {
   "cell_type": "code",
   "execution_count": 2,
   "metadata": {
    "collapsed": false
   },
   "outputs": [],
   "source": [
    "import pandas as pd\n",
    "import numpy as np\n",
    "from patsy import dmatrices\n",
    "import json\n",
    "\n",
    "pd.options.display.max_rows = 999\n",
    "pd.options.display.max_columns = 110"
   ]
  },
  {
   "cell_type": "code",
   "execution_count": 3,
   "metadata": {
    "collapsed": false
   },
   "outputs": [
    {
     "name": "stderr",
     "output_type": "stream",
     "text": [
      "/Users/stephenchou/anaconda/lib/python3.6/site-packages/ipykernel/__main__.py:15: FutureWarning: convert_objects is deprecated.  Use the data-type specific converters pd.to_datetime, pd.to_timedelta and pd.to_numeric.\n",
      "/Users/stephenchou/anaconda/lib/python3.6/site-packages/ipykernel/__main__.py:27: FutureWarning: convert_objects is deprecated.  Use the data-type specific converters pd.to_datetime, pd.to_timedelta and pd.to_numeric.\n"
     ]
    }
   ],
   "source": [
    "file_path = 'collegefb/combine_update_copy.json'\n",
    "with open(file_path) as json_data:\n",
    "    d = json.load(json_data)\n",
    "\n",
    "    data = []\n",
    "for row in d:\n",
    "    for k in row:\n",
    "        data.append(row[k])\n",
    "labels = ['year','player','pos','college','height','weight','forty','vertical','bench','broad','threecone','shuttle','drafted','url']\n",
    "\n",
    "df = pd.DataFrame(data,columns=labels)\n",
    "\n",
    "df[\"height\"]= (df.height.str.split('-').str[0]).astype(int)*12 + (df.height.str.split('-').str[1]).astype(int)\n",
    "df = df.convert_objects(convert_numeric=True)\n",
    "for col in [\"height\",\"weight\",\"forty\", \"vertical\", \"bench\", \"broad\", \"threecone\", \"shuttle\"]:\n",
    "    df[col] = df.groupby(\"pos\")[col].transform(lambda x: x.fillna(x.median()))\n",
    "    df[col] = df.groupby(\"pos\")[col].apply(lambda x: (x-x.min())/(x.max()-x.min()))\n",
    "\n",
    "df = df.convert_objects(convert_numeric=True)"
   ]
  },
  {
   "cell_type": "code",
   "execution_count": 5,
   "metadata": {
    "collapsed": false
   },
   "outputs": [
    {
     "name": "stderr",
     "output_type": "stream",
     "text": [
      "/Users/stephenchou/anaconda/lib/python3.6/site-packages/ipykernel/__main__.py:13: FutureWarning: convert_objects is deprecated.  Use the data-type specific converters pd.to_datetime, pd.to_timedelta and pd.to_numeric.\n"
     ]
    }
   ],
   "source": [
    "file_path = 'collegefb/draft_update2.json'\n",
    "with open(file_path) as json_data:\n",
    "    d = json.load(json_data)\n",
    "\n",
    "    data = []\n",
    "for row in d:\n",
    "    for k in row:\n",
    "        data.append(row[k])\n",
    "labels = ['year','round','pick','team','player','pos','age','college','url']\n",
    "\n",
    "df_draft = pd.DataFrame(data,columns=labels)\n",
    "df_draft = df_draft.convert_objects(convert_numeric=True)\n",
    "df_draft[\"firstround\"]=df_draft['round']==1\n",
    "df_draft = df_draft[['round','pick','player','year','firstround']]"
   ]
  },
  {
   "cell_type": "code",
   "execution_count": 7,
   "metadata": {
    "collapsed": false
   },
   "outputs": [
    {
     "name": "stderr",
     "output_type": "stream",
     "text": [
      "/Users/stephenchou/anaconda/lib/python3.6/site-packages/ipykernel/__main__.py:14: FutureWarning: convert_objects is deprecated.  Use the data-type specific converters pd.to_datetime, pd.to_timedelta and pd.to_numeric.\n"
     ]
    }
   ],
   "source": [
    "file_path = 'collegefb/college_update2.json'\n",
    "with open(file_path) as json_data:\n",
    "    d = json.load(json_data)\n",
    "\n",
    "    data = []\n",
    "for row in d:\n",
    "    for k in row:\n",
    "        data.append(row[k])\n",
    "#labels = ['completions','attempts','pass_yards','pass_tds','rec_yards','rec_td','receptions', 'rush_att', 'rush_yds', 'rush_td', 'solo_tackes', 'tackles', 'loss_tackles', 'ast_tackles', 'fum_forced', 'sacks', 'int', 'pd']\n",
    "labels = ['player_name', 'receptions', 'rec_yards', 'rec_td', 'rush_att', 'rush_yds', 'rush_td', 'attempts', 'completions', 'pass_ints', 'pass_tds', 'pass_yards','games', 'solo_tackles', 'ast_tackles', 'tackles', 'loss_tackles', 'sacks', 'int', 'int_tds', 'int_yds', 'pd', 'fum_rec', 'fum_forced', 'fum_tds', 'fum_yds','url']\n",
    "\n",
    "df_college = pd.DataFrame(data,columns=labels)\n",
    "df_college = df_college.convert_objects(convert_numeric=True)\n",
    "df_college_norm=pd.DataFrame(df_college['url'])\n",
    "\n",
    "cols = ['receptions', 'rec_yards', 'rec_td', 'rush_att', 'rush_yds', 'rush_td', 'attempts', 'completions', 'pass_ints', 'pass_tds', 'pass_yards','games', 'solo_tackles', 'ast_tackles', 'tackles', 'loss_tackles', 'sacks', 'int', 'int_tds', 'int_yds', 'pd', 'fum_rec', 'fum_forced', 'fum_tds', 'fum_yds']\n",
    "\n",
    "for col in cols:\n",
    "    df_college_norm[col] = df_college[col]/(df_college[col].max())\n",
    "\n",
    "df_college = df_college.drop('player_name',1)"
   ]
  },
  {
   "cell_type": "markdown",
   "metadata": {},
   "source": [
    "# rankings"
   ]
  },
  {
   "cell_type": "code",
   "execution_count": 11,
   "metadata": {
    "collapsed": false
   },
   "outputs": [],
   "source": [
    "file_path = 'collegefb/cfb_rank.json'\n",
    "with open(file_path) as json_data:\n",
    "    d = json.load(json_data)\n",
    "\n",
    "    data = []\n",
    "for row in d:\n",
    "    for k in row:\n",
    "        data.append(row[k])\n",
    "labels = ['poll','rank','college']\n",
    "\n",
    "df_rank = pd.DataFrame(data,columns=labels)\n",
    "df_rank['year']=df_rank.poll.str.split(' ').str[0].astype(int)+1\n",
    "df_rank['college_r']=1"
   ]
  },
  {
   "cell_type": "markdown",
   "metadata": {
    "collapsed": true
   },
   "source": [
    "# Combine datasets"
   ]
  },
  {
   "cell_type": "code",
   "execution_count": 13,
   "metadata": {
    "collapsed": false
   },
   "outputs": [
    {
     "name": "stderr",
     "output_type": "stream",
     "text": [
      "/Users/stephenchou/anaconda/lib/python3.6/site-packages/ipykernel/__main__.py:12: FutureWarning: convert_objects is deprecated.  Use the data-type specific converters pd.to_datetime, pd.to_timedelta and pd.to_numeric.\n",
      "/Users/stephenchou/anaconda/lib/python3.6/site-packages/ipykernel/__main__.py:13: FutureWarning: convert_objects is deprecated.  Use the data-type specific converters pd.to_datetime, pd.to_timedelta and pd.to_numeric.\n"
     ]
    }
   ],
   "source": [
    "temp_df = df.merge(df_rank,how='left',on=['college','year'])\n",
    "temp_df = temp_df.merge(df_draft,how='left',on=['year','player'])\n",
    "complete_df = temp_df.merge(df_college,how='left',on=['url'])\n",
    "complete_df_norm = temp_df.merge(df_college_norm,how='left',on=['url'])\n",
    "complete_df = complete_df.convert_objects(convert_numeric=True)\n",
    "complete_df_norm = complete_df_norm.convert_objects(convert_numeric=True)\n",
    "complete_df.fillna(0, inplace=True)\n",
    "complete_df_norm.fillna(0, inplace=True)"
   ]
  },
  {
   "cell_type": "code",
   "execution_count": 15,
   "metadata": {
    "collapsed": false
   },
   "outputs": [],
   "source": [
    "complete_df_norm.to_pickle('merged_football_data_norm_update.pkl')\n",
    "complete_df.to_pickle('merged_football_data_update.pkl')"
   ]
  }
 ],
 "metadata": {
  "kernelspec": {
   "display_name": "Python 3",
   "language": "python",
   "name": "python3"
  },
  "language_info": {
   "codemirror_mode": {
    "name": "ipython",
    "version": 3
   },
   "file_extension": ".py",
   "mimetype": "text/x-python",
   "name": "python",
   "nbconvert_exporter": "python",
   "pygments_lexer": "ipython3",
   "version": "3.6.0"
  }
 },
 "nbformat": 4,
 "nbformat_minor": 2
}
